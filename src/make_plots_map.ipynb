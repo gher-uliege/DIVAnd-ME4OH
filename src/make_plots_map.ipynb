{
 "cells": [
  {
   "cell_type": "markdown",
   "id": "fb3d8768",
   "metadata": {},
   "source": [
    "# Make plots map\n",
    "Create some plots on a map."
   ]
  },
  {
   "cell_type": "code",
   "execution_count": 7,
   "id": "383f9af4",
   "metadata": {},
   "outputs": [
    {
     "name": "stderr",
     "output_type": "stream",
     "text": [
      "\u001b[36m\u001b[1m[ \u001b[22m\u001b[39m\u001b[36m\u001b[1mInfo: \u001b[22m\u001b[39mFile already downloaded\n",
      "WARNING: replacing module ME4OH.\n"
     ]
    },
    {
     "data": {
      "text/plain": [
       "PyObject <cartopy.feature.GSHHSFeature object at 0x795cdb3429b0>"
      ]
     },
     "execution_count": 7,
     "metadata": {},
     "output_type": "execute_result"
    }
   ],
   "source": [
    "using PyPlot\n",
    "using NCDatasets\n",
    "using PyCall\n",
    "using Dates\n",
    "using Glob\n",
    "const plt = PyPlot\n",
    "ccrs = pyimport(\"cartopy.crs\")\n",
    "cfeature = pyimport(\"cartopy.feature\")\n",
    "include(\"./config.jl\")\n",
    "include(\"./ME4OH.jl\")\n",
    "mainproj = ccrs.Mollweide(central_longitude=200)\n",
    "datacrs = ccrs.PlateCarree();\n",
    "coast = cfeature.GSHHSFeature(scale=\"h\")"
   ]
  },
  {
   "cell_type": "code",
   "execution_count": 8,
   "id": "de316a47",
   "metadata": {},
   "outputs": [
    {
     "name": "stderr",
     "output_type": "stream",
     "text": [
      "\u001b[36m\u001b[1m[ \u001b[22m\u001b[39m\u001b[36m\u001b[1mInfo: \u001b[22m\u001b[39mFigures will be saved in ../figures/\n"
     ]
    }
   ],
   "source": [
    "@info(\"Figures will be saved in $(figdir)\")"
   ]
  },
  {
   "cell_type": "markdown",
   "id": "034a362b",
   "metadata": {},
   "source": [
    "## Observations "
   ]
  },
  {
   "cell_type": "code",
   "execution_count": 9,
   "id": "ff03b5b2",
   "metadata": {},
   "outputs": [
    {
     "name": "stderr",
     "output_type": "stream",
     "text": [
      "\u001b[36m\u001b[1m[ \u001b[22m\u001b[39m\u001b[36m\u001b[1mInfo: \u001b[22m\u001b[39mData directory exists\n"
     ]
    }
   ],
   "source": [
    "thetimeperiod = timeperiod1\n",
    "datadirdisk = joinpath(databasedir, \"$(thetimeperiod[1])-$(thetimeperiod[end])\")\n",
    "isdir(datadirdisk) ? @info(\"Data directory exists\") : @error(\"Data directory does't exist\")"
   ]
  },
  {
   "cell_type": "code",
   "execution_count": 10,
   "id": "ff126d99",
   "metadata": {},
   "outputs": [
    {
     "name": "stderr",
     "output_type": "stream",
     "text": [
      "\u001b[36m\u001b[1m[ \u001b[22m\u001b[39m\u001b[36m\u001b[1mInfo: \u001b[22m\u001b[39mFound 432 files\n"
     ]
    },
    {
     "data": {
      "text/plain": [
       "\"/media/ctroupin/T7 Shield/000060826v009/data/en4.1.1/1979-2014/ofam3-jra55.all.EN.4.1.1.f.profiles.g10.197901.update.extra.danom.197901_201412.nc\""
      ]
     },
     "execution_count": 10,
     "metadata": {},
     "output_type": "execute_result"
    }
   ],
   "source": [
    "datafilelist = ME4OH.get_filelist(datadirdisk)\n",
    "datafile = datafilelist[1]"
   ]
  },
  {
   "cell_type": "code",
   "execution_count": 63,
   "id": "6123248d",
   "metadata": {},
   "outputs": [],
   "source": [
    "for indexlayer = 1:3\n",
    "    lon, lat, dates, dohc, adohc, dadohc, dohc_mask, bounds, depth_level_thickness = ME4OH.read_profile(datafile);\n",
    "    goodvalues = goodvalues = .!(isnan.(dohc[indexlayer,:]));\n",
    "    \n",
    "    fig = plt.figure()\n",
    "    ax = plt.subplot(111, projection=mainproj)\n",
    "    ax.set_global()\n",
    "    scat = ax.scatter(lon, lat, s=3, c=dohc[indexlayer,:], transform=datacrs)\n",
    "    cb = plt.colorbar(scat, shrink=.6)\n",
    "    cb.set_label(\"TJ/m²\", rotation=0, ha=\"left\")\n",
    "    ax.set_title(\"Density of Ocean Heat Content\\n $(Dates.monthname(Dates.month(dates[1]))) $(Dates.year(dates[1])), layer [$(depthlayers[indexlayer][1])-$(depthlayers[indexlayer][2])] m\")\n",
    "    ax.add_feature(coast, lw=.5, zorder=4)\n",
    "    fname = \"dohc_$(Dates.year(dates[1]))$(lpad(Dates.month(dates[1]), 2, '0'))_layer$(indexlayer)\"\n",
    "    plt.savefig(joinpath(figdir, fname))\n",
    "    plt.close()\n",
    "end    "
   ]
  },
  {
   "cell_type": "markdown",
   "id": "20003379",
   "metadata": {},
   "source": [
    "## Gridded fields"
   ]
  },
  {
   "cell_type": "code",
   "execution_count": 71,
   "id": "1fe2c2b3",
   "metadata": {},
   "outputs": [
    {
     "data": {
      "text/plain": [
       "\"../output/experiment-A/dohc/OHC_1979_2014_lev0_286.6_expA_DIVAnd.nc\""
      ]
     },
     "execution_count": 71,
     "metadata": {},
     "output_type": "execute_result"
    }
   ],
   "source": [
    "outputfile = joinpath(mainoutputdir, \"experiment-A/dohc/OHC_1979_2014_lev0_286.6_expA_DIVAnd.nc\")"
   ]
  },
  {
   "cell_type": "code",
   "execution_count": 72,
   "id": "d505cb44",
   "metadata": {},
   "outputs": [
    {
     "data": {
      "text/plain": [
       "closed Dataset"
      ]
     },
     "execution_count": 72,
     "metadata": {},
     "output_type": "execute_result"
    }
   ],
   "source": [
    "nc = NCDataset(outputfile, \"r\")\n",
    "dates = nc[\"time\"][:]\n",
    "dohc = nc[\"dohc\"][:,:,:]\n",
    "close(nc)"
   ]
  },
  {
   "cell_type": "code",
   "execution_count": 75,
   "id": "f178a83a",
   "metadata": {},
   "outputs": [
    {
     "data": {
      "text/plain": [
       "313"
      ]
     },
     "execution_count": 75,
     "metadata": {},
     "output_type": "execute_result"
    }
   ],
   "source": [
    "timeindex = findfirst(dates .== DateTime(2005, 1, 1))"
   ]
  },
  {
   "cell_type": "code",
   "execution_count": 82,
   "id": "6113ff51",
   "metadata": {},
   "outputs": [],
   "source": [
    "fig = plt.figure()\n",
    "ax = plt.subplot(111, projection=mainproj)\n",
    "ax.set_global()\n",
    "pcm = ax.pcolormesh(longrid, latgrid, dohc[:,:,timeindex]', transform=datacrs)\n",
    "cb = plt.colorbar(pcm, shrink=.6)\n",
    "cb.set_label(\"TJ/m²\", rotation=0, ha=\"left\")\n",
    "ax.set_title(\"Interpolated density of Ocean Heat Content\\nExperiment A\\n $(Dates.monthname(Dates.month(dates[1]))) $(Dates.year(dates[1])), layer [$(depthlayers[indexlayer][1])-$(depthlayers[indexlayer][2])] m\")\n",
    "ax.add_feature(coast, lw=.5, zorder=4)\n",
    "fname = \"dohc_expA_$(Dates.year(dates[1]))$(lpad(Dates.month(dates[1]), 2, '0'))_layer$(indexlayer)\"\n",
    "plt.savefig(joinpath(figdir, fname))\n",
    "plt.close()\n",
    "plt.show() "
   ]
  },
  {
   "cell_type": "markdown",
   "id": "af9b3a8f",
   "metadata": {},
   "source": [
    "## Temperature observations"
   ]
  },
  {
   "cell_type": "code",
   "execution_count": 37,
   "id": "9e48ea94",
   "metadata": {},
   "outputs": [],
   "source": [
    "timeperiodtext = \"$(thetimeperiod[1])01_$(thetimeperiod[end])12\"\n",
    "fnameprefix = \"ofam3-jra55.all.EN.4.1.1.f.profiles.g10\"\n",
    "fnamesuffix = \"update.extra.danom\"\n",
    "\n",
    "for mm = 1:12\n",
    "    @info(\"Working on month $(mm)\")\n",
    "    datafilelistmonth = glob(\"$(fnameprefix).*$(lpad(mm, 2, \"0\")).$(fnamesuffix).$(timeperiodtext).nc\", datadirdisk)\n",
    "    @info(\"Found $(length(datafilelistmonth)) files\")\n",
    "\n",
    "    obslon, obslat, obsdates, obsdepth, T, S = ME4OH.read_TS_data(datafilelistmonth);\n",
    "    nobs = length(obslon)\n",
    "    @info(\"Total number of observations: $(nobs)\")\n",
    "    \n",
    "    for thedepth in [obsdepth[1], obsdepth[10], obsdepth[20]]\n",
    "    \n",
    "        gooddepth = findall(obsdepth .== thedepth);\n",
    "    \n",
    "        fig = plt.figure()\n",
    "        ax = plt.subplot(111, projection=mainproj)\n",
    "        ax.set_global()\n",
    "        scat = ax.scatter(obslon[gooddepth], obslat[gooddepth], s=1, c=T[gooddepth], cmap=plt.cm.RdYlBu_r,\n",
    "        transform=datacrs)\n",
    "        cb = plt.colorbar(scat, shrink=.6)\n",
    "        cb.set_label(\"°C\", rotation=0, ha=\"left\")\n",
    "        ax.set_title(\"Temperature observations at $(round(thedepth, digits=1)) m in $(Dates.monthname(mm))\\nfor the time period $(thetimeperiod[1]) - $(thetimeperiod[end])\")\n",
    "        ax.add_feature(coast, lw=.5, zorder=4)\n",
    "        fname = \"temperature_month$(lpad(mm, 2, '0'))_depth$(round(thedepth))_period$(thetimeperiod[1])_$(thetimeperiod[end]).jpg\"\n",
    "        plt.savefig(joinpath(figdir, fname))\n",
    "        #plt.show()\n",
    "        plt.close()\n",
    "    end\n",
    "    \n",
    "end"
   ]
  },
  {
   "cell_type": "markdown",
   "id": "c6ff30eb",
   "metadata": {},
   "source": [
    "## Temperature climatology"
   ]
  },
  {
   "cell_type": "code",
   "execution_count": 12,
   "id": "e7bc6d3a",
   "metadata": {},
   "outputs": [
    {
     "name": "stderr",
     "output_type": "stream",
     "text": [
      "\u001b[36m\u001b[1m[ \u001b[22m\u001b[39m\u001b[36m\u001b[1mInfo: \u001b[22m\u001b[39mWorking on file ../output/experiment-C/temperature_climatology_1979_2014.nc\n"
     ]
    }
   ],
   "source": [
    "thetimeperiod = timeperiod1\n",
    "climfile = \"../output/experiment-C/temperature_climatology_$(thetimeperiod[1])_$(thetimeperiod[end]).nc\"\n",
    "isfile(climfile) ? @info(\"Working on file $(climfile)\") : @error(\"File $(climfile) doesn't exist\")"
   ]
  },
  {
   "cell_type": "code",
   "execution_count": 31,
   "id": "0f8dfd0a",
   "metadata": {},
   "outputs": [
    {
     "data": {
      "text/plain": [
       "plot_clim (generic function with 2 methods)"
      ]
     },
     "execution_count": 31,
     "metadata": {},
     "output_type": "execute_result"
    }
   ],
   "source": [
    "function plot_clim(longrid::StepRangeLen, latgrid::StepRangeLen, T::Matrix{Union{Missing, Float64}}, \n",
    "        thedepth::Float64, timeperiod::UnitRange{Int64}, mm::Int64, thedate::DateTime)\n",
    "    fig = plt.figure()\n",
    "    ax = plt.subplot(111, projection=mainproj)\n",
    "    ax.set_global()\n",
    "    pcm = ax.pcolormesh(longrid, latgrid, T', transform=datacrs, cmap=plt.cm.RdYlBu_r)\n",
    "    cb = plt.colorbar(pcm, shrink=.6)\n",
    "    cb.set_label(\"°C\", rotation=0, ha=\"left\")\n",
    "    ax.set_title(\"Interpolated temperature at $(round(thedepth, digits=1)) m\\nin $(Dates.monthname(Dates.month(thedate))) [$(thetimeperiod[1])-$(thetimeperiod[end])]\")\n",
    "    ax.add_feature(coast, lw=.5, zorder=4)\n",
    "    fname = \"temperature_clim_month$(lpad(mm, 2, '0'))_depth$(Int64(round(thedepth)))_period$(thetimeperiod[1])_$(thetimeperiod[end]).jpg\"\n",
    "    @info(fname)\n",
    "    plt.savefig(joinpath(figdir, fname))\n",
    "    plt.close()\n",
    "    return nothing\n",
    "end"
   ]
  },
  {
   "cell_type": "code",
   "execution_count": 32,
   "id": "15695339",
   "metadata": {},
   "outputs": [
    {
     "name": "stderr",
     "output_type": "stream",
     "text": [
      "\u001b[36m\u001b[1m[ \u001b[22m\u001b[39m\u001b[36m\u001b[1mInfo: \u001b[22m\u001b[39mWorking on month 1\n",
      "\u001b[36m\u001b[1m[ \u001b[22m\u001b[39m\u001b[36m\u001b[1mInfo: \u001b[22m\u001b[39mtemperature_clim_month01_depth2_period1979_2014.jpg\n",
      "\u001b[36m\u001b[1m[ \u001b[22m\u001b[39m\u001b[36m\u001b[1mInfo: \u001b[22m\u001b[39mtemperature_clim_month01_depth57_period1979_2014.jpg\n",
      "\u001b[36m\u001b[1m[ \u001b[22m\u001b[39m\u001b[36m\u001b[1mInfo: \u001b[22m\u001b[39mtemperature_clim_month01_depth155_period1979_2014.jpg\n"
     ]
    },
    {
     "data": {
      "text/plain": [
       "closed Dataset"
      ]
     },
     "execution_count": 32,
     "metadata": {},
     "output_type": "execute_result"
    }
   ],
   "source": [
    "NCDataset(climfile, \"r\") do nc\n",
    "    depth = nc[\"depth\"][:]\n",
    "\n",
    "    for mm = 1:1\n",
    "        @info(\"Working on month $(mm)\")\n",
    "\n",
    "        for thedepth in [depth[1], depth[10], depth[20]]\n",
    "\n",
    "            gooddepth = findfirst(depth .== thedepth);\n",
    "            T = nc[\"temperature\"][:,:,gooddepth,mm]\n",
    "            thedate = nc[\"time\"][mm]\n",
    "\n",
    "            plot_clim(longrid, latgrid, T, thedepth, thetimeperiod, mm, thedate)\n",
    "\n",
    "        end\n",
    "    end\n",
    "\n",
    "end"
   ]
  }
 ],
 "metadata": {
  "kernelspec": {
   "display_name": "Julia 1.10.4",
   "language": "julia",
   "name": "julia-1.10"
  },
  "language_info": {
   "file_extension": ".jl",
   "mimetype": "application/julia",
   "name": "julia",
   "version": "1.10.4"
  },
  "toc": {
   "base_numbering": 1,
   "nav_menu": {},
   "number_sections": true,
   "sideBar": true,
   "skip_h1_title": false,
   "title_cell": "Table of Contents",
   "title_sidebar": "Contents",
   "toc_cell": false,
   "toc_position": {},
   "toc_section_display": true,
   "toc_window_display": false
  }
 },
 "nbformat": 4,
 "nbformat_minor": 5
}
