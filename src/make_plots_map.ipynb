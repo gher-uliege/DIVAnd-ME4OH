{
 "cells": [
  {
   "cell_type": "markdown",
   "id": "fb3d8768",
   "metadata": {},
   "source": [
    "# Make plots map\n",
    "Create some plots on a map."
   ]
  },
  {
   "cell_type": "code",
   "execution_count": 67,
   "id": "383f9af4",
   "metadata": {},
   "outputs": [
    {
     "name": "stderr",
     "output_type": "stream",
     "text": [
      "WARNING: using NCDatasets.bounds in module Main conflicts with an existing identifier.\n",
      "\u001b[36m\u001b[1m[ \u001b[22m\u001b[39m\u001b[36m\u001b[1mInfo: \u001b[22m\u001b[39mFile already downloaded\n",
      "WARNING: replacing module ME4OH.\n"
     ]
    },
    {
     "data": {
      "text/plain": [
       "PyObject <cartopy.feature.GSHHSFeature object at 0x77e2c7357850>"
      ]
     },
     "execution_count": 67,
     "metadata": {},
     "output_type": "execute_result"
    }
   ],
   "source": [
    "using PyPlot\n",
    "using NCDatasets\n",
    "using PyCall\n",
    "using Dates\n",
    "const plt = PyPlot\n",
    "ccrs = pyimport(\"cartopy.crs\")\n",
    "cfeature = pyimport(\"cartopy.feature\")\n",
    "include(\"./config.jl\")\n",
    "include(\"./ME4OH.jl\")\n",
    "mainproj = ccrs.Mollweide(central_longitude=200)\n",
    "datacrs = ccrs.PlateCarree();\n",
    "coast = cfeature.GSHHSFeature(scale=\"h\")"
   ]
  },
  {
   "cell_type": "code",
   "execution_count": 3,
   "id": "de316a47",
   "metadata": {},
   "outputs": [
    {
     "name": "stderr",
     "output_type": "stream",
     "text": [
      "\u001b[36m\u001b[1m[ \u001b[22m\u001b[39m\u001b[36m\u001b[1mInfo: \u001b[22m\u001b[39mFigures will be saved in ../figures/\n"
     ]
    }
   ],
   "source": [
    "@info(\"Figures will be saved in $(figdir)\")"
   ]
  },
  {
   "cell_type": "markdown",
   "id": "034a362b",
   "metadata": {},
   "source": [
    "## Observations "
   ]
  },
  {
   "cell_type": "code",
   "execution_count": 5,
   "id": "ff03b5b2",
   "metadata": {},
   "outputs": [
    {
     "data": {
      "text/plain": [
       "\"/media/ctroupin/T7 Shield/000060826v009/data/en4.1.1/2005-2014\""
      ]
     },
     "execution_count": 5,
     "metadata": {},
     "output_type": "execute_result"
    }
   ],
   "source": [
    "thetimeperiod = timeperiod2\n",
    "datadirdisk = joinpath(databasedir, \"$(thetimeperiod[1])-$(thetimeperiod[end])\")"
   ]
  },
  {
   "cell_type": "code",
   "execution_count": 8,
   "id": "ff126d99",
   "metadata": {},
   "outputs": [
    {
     "name": "stderr",
     "output_type": "stream",
     "text": [
      "\u001b[36m\u001b[1m[ \u001b[22m\u001b[39m\u001b[36m\u001b[1mInfo: \u001b[22m\u001b[39mFound 120 files\n"
     ]
    },
    {
     "data": {
      "text/plain": [
       "\"/media/ctroupin/T7 Shield/000060826v009/data/en4.1.1/2005-2014/ofam3-jra55.all.EN.4.1.1.f.profiles.g10.200501.update.extra.danom.200501_201412.nc\""
      ]
     },
     "execution_count": 8,
     "metadata": {},
     "output_type": "execute_result"
    }
   ],
   "source": [
    "datafilelist = ME4OH.get_filelist(datadirdisk)\n",
    "datafile = datafilelist[1]"
   ]
  },
  {
   "cell_type": "code",
   "execution_count": 63,
   "id": "6123248d",
   "metadata": {},
   "outputs": [],
   "source": [
    "for indexlayer = 1:3\n",
    "    lon, lat, dates, dohc, adohc, dadohc, dohc_mask, bounds, depth_level_thickness = ME4OH.read_profile(datafile);\n",
    "    goodvalues = goodvalues = .!(isnan.(dohc[indexlayer,:]));\n",
    "    \n",
    "    fig = plt.figure()\n",
    "    ax = plt.subplot(111, projection=mainproj)\n",
    "    ax.set_global()\n",
    "    scat = ax.scatter(lon, lat, s=3, c=dohc[indexlayer,:], transform=datacrs)\n",
    "    cb = plt.colorbar(scat, shrink=.6)\n",
    "    cb.set_label(\"TJ/m²\", rotation=0, ha=\"left\")\n",
    "    ax.set_title(\"Density of Ocean Heat Content\\n $(Dates.monthname(Dates.month(dates[1]))) $(Dates.year(dates[1])), layer [$(depthlayers[indexlayer][1])-$(depthlayers[indexlayer][2])] m\")\n",
    "    ax.add_feature(coast, lw=.5, zorder=4)\n",
    "    fname = \"dohc_$(Dates.year(dates[1]))$(lpad(Dates.month(dates[1]), 2, '0'))_layer$(indexlayer)\"\n",
    "    plt.savefig(joinpath(figdir, fname))\n",
    "    plt.close()\n",
    "end    "
   ]
  },
  {
   "cell_type": "markdown",
   "id": "20003379",
   "metadata": {},
   "source": [
    "## Gridded fields"
   ]
  },
  {
   "cell_type": "code",
   "execution_count": 71,
   "id": "1fe2c2b3",
   "metadata": {},
   "outputs": [
    {
     "data": {
      "text/plain": [
       "\"../output/experiment-A/dohc/OHC_1979_2014_lev0_286.6_expA_DIVAnd.nc\""
      ]
     },
     "execution_count": 71,
     "metadata": {},
     "output_type": "execute_result"
    }
   ],
   "source": [
    "outputfile = joinpath(mainoutputdir, \"experiment-A/dohc/OHC_1979_2014_lev0_286.6_expA_DIVAnd.nc\")"
   ]
  },
  {
   "cell_type": "code",
   "execution_count": 72,
   "id": "d505cb44",
   "metadata": {},
   "outputs": [
    {
     "data": {
      "text/plain": [
       "closed Dataset"
      ]
     },
     "execution_count": 72,
     "metadata": {},
     "output_type": "execute_result"
    }
   ],
   "source": [
    "nc = NCDataset(outputfile, \"r\")\n",
    "dates = nc[\"time\"][:]\n",
    "dohc = nc[\"dohc\"][:,:,:]\n",
    "close(nc)"
   ]
  },
  {
   "cell_type": "code",
   "execution_count": 75,
   "id": "f178a83a",
   "metadata": {},
   "outputs": [
    {
     "data": {
      "text/plain": [
       "313"
      ]
     },
     "execution_count": 75,
     "metadata": {},
     "output_type": "execute_result"
    }
   ],
   "source": [
    "timeindex = findfirst(dates .== DateTime(2005, 1, 1))"
   ]
  },
  {
   "cell_type": "code",
   "execution_count": 82,
   "id": "6113ff51",
   "metadata": {},
   "outputs": [],
   "source": [
    "fig = plt.figure()\n",
    "ax = plt.subplot(111, projection=mainproj)\n",
    "ax.set_global()\n",
    "pcm = ax.pcolormesh(longrid, latgrid, dohc[:,:,timeindex]', transform=datacrs)\n",
    "cb = plt.colorbar(pcm, shrink=.6)\n",
    "cb.set_label(\"TJ/m²\", rotation=0, ha=\"left\")\n",
    "ax.set_title(\"Interpolated density of Ocean Heat Content\\nExperiment A\\n $(Dates.monthname(Dates.month(dates[1]))) $(Dates.year(dates[1])), layer [$(depthlayers[indexlayer][1])-$(depthlayers[indexlayer][2])] m\")\n",
    "ax.add_feature(coast, lw=.5, zorder=4)\n",
    "fname = \"dohc_expA_$(Dates.year(dates[1]))$(lpad(Dates.month(dates[1]), 2, '0'))_layer$(indexlayer)\"\n",
    "plt.savefig(joinpath(figdir, fname))\n",
    "plt.close()\n",
    "plt.show() "
   ]
  },
  {
   "cell_type": "code",
   "execution_count": null,
   "id": "11ff3ae1",
   "metadata": {},
   "outputs": [],
   "source": []
  }
 ],
 "metadata": {
  "kernelspec": {
   "display_name": "Julia 1.10.4",
   "language": "julia",
   "name": "julia-1.10"
  },
  "language_info": {
   "file_extension": ".jl",
   "mimetype": "application/julia",
   "name": "julia",
   "version": "1.10.4"
  },
  "toc": {
   "base_numbering": 1,
   "nav_menu": {},
   "number_sections": true,
   "sideBar": true,
   "skip_h1_title": false,
   "title_cell": "Table of Contents",
   "title_sidebar": "Contents",
   "toc_cell": false,
   "toc_position": {},
   "toc_section_display": true,
   "toc_window_display": false
  }
 },
 "nbformat": 4,
 "nbformat_minor": 5
}
