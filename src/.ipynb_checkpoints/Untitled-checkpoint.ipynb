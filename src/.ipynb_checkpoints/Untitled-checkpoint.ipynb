{
 "cells": [
  {
   "cell_type": "code",
   "execution_count": 26,
   "id": "281b4cbc",
   "metadata": {},
   "outputs": [
    {
     "data": {
      "text/plain": [
       "\"../data/gebco_30sec_16.nc\""
      ]
     },
     "execution_count": 26,
     "metadata": {},
     "output_type": "execute_result"
    }
   ],
   "source": [
    "using NCDatasets\n",
    "using Dates\n",
    "using DataStructures\n",
    "include(\"../config.jl\")"
   ]
  },
  {
   "cell_type": "code",
   "execution_count": 31,
   "id": "1316b0e4",
   "metadata": {},
   "outputs": [],
   "source": [
    "timegrid1 = get_timegrid(timeperiod1)\n"
   ]
  },
  {
   "cell_type": "code",
   "execution_count": 43,
   "id": "d88de7a8",
   "metadata": {},
   "outputs": [
    {
     "data": {
      "text/plain": [
       "create_netcdf_results (generic function with 1 method)"
      ]
     },
     "execution_count": 43,
     "metadata": {},
     "output_type": "execute_result"
    }
   ],
   "source": [
    "function create_netcdf_results(fname::AbstractString, longrid, latgrid, timegrid)\n",
    "    \n",
    "    daygrid = datetime2days(timegrid);\n",
    "\n",
    "    NCDataset(fname, \"c\", attrib = OrderedDict(\"title\" => \"DIVAnd interpolated field\")) do ds\n",
    "\n",
    "    # Dimensions\n",
    "    ds.dim[\"lat\"] = length(latgrid)\n",
    "    ds.dim[\"lon\"] = length(longrid)\n",
    "    ds.dim[\"time\"] = Inf\n",
    "\n",
    "    # Declare variables\n",
    "    nclat = defVar(ds, \"lat\", latgrid, (\"lat\",), attrib = OrderedDict(\n",
    "        \"long_name\"                 => \"Latitude\",\n",
    "        \"standard_name\"             => \"latitude\",\n",
    "        \"units\"                     => \"degrees_north\",\n",
    "    ))\n",
    "\n",
    "    nclon = defVar(ds, \"lon\", longrid, (\"lon\",), attrib = OrderedDict(\n",
    "        \"long_name\"                 => \"Longitude\",\n",
    "        \"standard_name\"             => \"longitude\",\n",
    "        \"units\"                     => \"degrees_east\",\n",
    "    ))\n",
    "\n",
    "    nctime = defVar(ds, \"time\", daygrid, (\"time\",), attrib = OrderedDict(\n",
    "        \"_CoordinateAxisType\"       => \"Time\",\n",
    "        \"actual_range\"              => [Dates.format(timegrid[1], dateformat\"yyyy-mm-dd\"), Dates.format(timegrid[end], dateformat\"yyyy-mm-dd\")],\n",
    "        \"axis\"                      => \"T\",\n",
    "        \"calendar\"                  => \"Gregorian\",\n",
    "        \"long_name\"                 => \"Time of measurement\",\n",
    "        \"standard_name\"             => \"time\",\n",
    "        \"time_origin\"               => \"01-JAN-1900 00:00:00\",\n",
    "        \"units\"                     => \"days since 1900-01-01T00:00:00Z\",\n",
    "    ))\n",
    "\n",
    "    return nothing\n",
    "    end;\n",
    "end"
   ]
  },
  {
   "cell_type": "code",
   "execution_count": 44,
   "id": "29f5350a",
   "metadata": {},
   "outputs": [],
   "source": [
    "testfile = \"./test2del.nc\"\n",
    "isfile(testfile) ? rm(testfile) : @debug(\"ok\")\n",
    "create_netcdf_results(\"test2del.nc\", longrid, latgrid, timegrid1)"
   ]
  },
  {
   "cell_type": "code",
   "execution_count": null,
   "id": "009f21b2",
   "metadata": {},
   "outputs": [],
   "source": []
  }
 ],
 "metadata": {
  "@webio": {
   "lastCommId": null,
   "lastKernelId": null
  },
  "kernelspec": {
   "display_name": "Julia 1.10.0",
   "language": "julia",
   "name": "julia-1.10"
  },
  "language_info": {
   "file_extension": ".jl",
   "mimetype": "application/julia",
   "name": "julia",
   "version": "1.10.0"
  }
 },
 "nbformat": 4,
 "nbformat_minor": 5
}
