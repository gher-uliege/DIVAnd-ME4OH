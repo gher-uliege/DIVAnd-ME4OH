{
 "cells": [
  {
   "cell_type": "code",
   "execution_count": 108,
   "id": "ed5a8312",
   "metadata": {},
   "outputs": [
    {
     "data": {
      "text/plain": [
       "false"
      ]
     },
     "execution_count": 108,
     "metadata": {},
     "output_type": "execute_result"
    }
   ],
   "source": [
    "using NCDatasets\n",
    "using DIVAnd\n",
    "using PyPlot\n",
    "using Dates\n",
    "using Glob\n",
    "using Test\n",
    "const plt = PyPlot\n",
    "include(\"./config.jl\");\n",
    "include(\"./ME4OH.jl\")\n",
    "doplot = false"
   ]
  },
  {
   "cell_type": "code",
   "execution_count": 132,
   "id": "332e2584",
   "metadata": {},
   "outputs": [
    {
     "data": {
      "text/plain": [
       "2005:2014"
      ]
     },
     "execution_count": 132,
     "metadata": {},
     "output_type": "execute_result"
    }
   ],
   "source": [
    "timeperiod = timeperiod2"
   ]
  },
  {
   "cell_type": "code",
   "execution_count": 123,
   "id": "ca3f2824",
   "metadata": {},
   "outputs": [
    {
     "data": {
      "text/plain": [
       "get_year (generic function with 1 method)"
      ]
     },
     "execution_count": 123,
     "metadata": {},
     "output_type": "execute_result"
    }
   ],
   "source": [
    "function get_year(datafile::AbstractString)\n",
    "    NCDataset(datafile, \"r\") do ds\n",
    "        theyear = Int64(ds[\"en4_ymd\"][1,1])\n",
    "        return theyear\n",
    "    end\n",
    "end"
   ]
  },
  {
   "cell_type": "code",
   "execution_count": 137,
   "id": "d1aebb45",
   "metadata": {},
   "outputs": [
    {
     "data": {
      "text/plain": [
       "282-element Vector{Int64}:\n",
       " 1979\n",
       " 1979\n",
       " 1979\n",
       " 1979\n",
       " 1979\n",
       " 1979\n",
       " 1979\n",
       " 1979\n",
       " 1979\n",
       " 1979\n",
       " 1979\n",
       " 1979\n",
       " 1980\n",
       "    ⋮\n",
       " 2001\n",
       " 2001\n",
       " 2001\n",
       " 2001\n",
       " 2001\n",
       " 2001\n",
       " 2002\n",
       " 2002\n",
       " 2002\n",
       " 2002\n",
       " 2002\n",
       " 2002"
      ]
     },
     "execution_count": 137,
     "metadata": {},
     "output_type": "execute_result"
    }
   ],
   "source": [
    "yearlist = zeros(Int64, length(datafilelist))\n",
    "for (iii, datafile) in enumerate(datafilelist)\n",
    "    yearlist[iii] = get_year(datafile)\n",
    "end\n",
    "yearlist"
   ]
  },
  {
   "cell_type": "code",
   "execution_count": 136,
   "id": "05415069",
   "metadata": {},
   "outputs": [
    {
     "data": {
      "text/plain": [
       "Int64[]"
      ]
     },
     "execution_count": 136,
     "metadata": {},
     "output_type": "execute_result"
    }
   ],
   "source": [
    "goodyear = findall((yearlist .<= timeperiod2[end]) .& (yearlist .>= timeperiod2[1]))"
   ]
  },
  {
   "cell_type": "markdown",
   "id": "685f2f68",
   "metadata": {},
   "source": [
    "## Create list of netCDF files\n",
    "The files with the \"nonan\" extension were moved to another directory."
   ]
  },
  {
   "cell_type": "code",
   "execution_count": 139,
   "id": "fa43b65b",
   "metadata": {},
   "outputs": [
    {
     "name": "stderr",
     "output_type": "stream",
     "text": [
      "\u001b[36m\u001b[1m[ \u001b[22m\u001b[39m\u001b[36m\u001b[1mInfo: \u001b[22m\u001b[39mFound 282 files\n"
     ]
    },
    {
     "data": {
      "text/plain": [
       "282-element Vector{String}:\n",
       " \"/home/ctroupin/data/ME4OH/data/\"\u001b[93m\u001b[1m ⋯ 55 bytes ⋯ \u001b[22m\u001b[39m\"f.profiles.g10.197901.update.nc\"\n",
       " \"/home/ctroupin/data/ME4OH/data/\"\u001b[93m\u001b[1m ⋯ 55 bytes ⋯ \u001b[22m\u001b[39m\"f.profiles.g10.197902.update.nc\"\n",
       " \"/home/ctroupin/data/ME4OH/data/\"\u001b[93m\u001b[1m ⋯ 55 bytes ⋯ \u001b[22m\u001b[39m\"f.profiles.g10.197903.update.nc\"\n",
       " \"/home/ctroupin/data/ME4OH/data/\"\u001b[93m\u001b[1m ⋯ 55 bytes ⋯ \u001b[22m\u001b[39m\"f.profiles.g10.197904.update.nc\"\n",
       " \"/home/ctroupin/data/ME4OH/data/\"\u001b[93m\u001b[1m ⋯ 55 bytes ⋯ \u001b[22m\u001b[39m\"f.profiles.g10.197905.update.nc\"\n",
       " \"/home/ctroupin/data/ME4OH/data/\"\u001b[93m\u001b[1m ⋯ 55 bytes ⋯ \u001b[22m\u001b[39m\"f.profiles.g10.197906.update.nc\"\n",
       " \"/home/ctroupin/data/ME4OH/data/\"\u001b[93m\u001b[1m ⋯ 55 bytes ⋯ \u001b[22m\u001b[39m\"f.profiles.g10.197907.update.nc\"\n",
       " \"/home/ctroupin/data/ME4OH/data/\"\u001b[93m\u001b[1m ⋯ 55 bytes ⋯ \u001b[22m\u001b[39m\"f.profiles.g10.197908.update.nc\"\n",
       " \"/home/ctroupin/data/ME4OH/data/\"\u001b[93m\u001b[1m ⋯ 55 bytes ⋯ \u001b[22m\u001b[39m\"f.profiles.g10.197909.update.nc\"\n",
       " \"/home/ctroupin/data/ME4OH/data/\"\u001b[93m\u001b[1m ⋯ 55 bytes ⋯ \u001b[22m\u001b[39m\"f.profiles.g10.197910.update.nc\"\n",
       " \"/home/ctroupin/data/ME4OH/data/\"\u001b[93m\u001b[1m ⋯ 55 bytes ⋯ \u001b[22m\u001b[39m\"f.profiles.g10.197911.update.nc\"\n",
       " \"/home/ctroupin/data/ME4OH/data/\"\u001b[93m\u001b[1m ⋯ 55 bytes ⋯ \u001b[22m\u001b[39m\"f.profiles.g10.197912.update.nc\"\n",
       " \"/home/ctroupin/data/ME4OH/data/\"\u001b[93m\u001b[1m ⋯ 55 bytes ⋯ \u001b[22m\u001b[39m\"f.profiles.g10.198001.update.nc\"\n",
       " ⋮\n",
       " \"/home/ctroupin/data/ME4OH/data/\"\u001b[93m\u001b[1m ⋯ 55 bytes ⋯ \u001b[22m\u001b[39m\"f.profiles.g10.200107.update.nc\"\n",
       " \"/home/ctroupin/data/ME4OH/data/\"\u001b[93m\u001b[1m ⋯ 55 bytes ⋯ \u001b[22m\u001b[39m\"f.profiles.g10.200108.update.nc\"\n",
       " \"/home/ctroupin/data/ME4OH/data/\"\u001b[93m\u001b[1m ⋯ 55 bytes ⋯ \u001b[22m\u001b[39m\"f.profiles.g10.200109.update.nc\"\n",
       " \"/home/ctroupin/data/ME4OH/data/\"\u001b[93m\u001b[1m ⋯ 55 bytes ⋯ \u001b[22m\u001b[39m\"f.profiles.g10.200110.update.nc\"\n",
       " \"/home/ctroupin/data/ME4OH/data/\"\u001b[93m\u001b[1m ⋯ 55 bytes ⋯ \u001b[22m\u001b[39m\"f.profiles.g10.200111.update.nc\"\n",
       " \"/home/ctroupin/data/ME4OH/data/\"\u001b[93m\u001b[1m ⋯ 55 bytes ⋯ \u001b[22m\u001b[39m\"f.profiles.g10.200112.update.nc\"\n",
       " \"/home/ctroupin/data/ME4OH/data/\"\u001b[93m\u001b[1m ⋯ 55 bytes ⋯ \u001b[22m\u001b[39m\"f.profiles.g10.200201.update.nc\"\n",
       " \"/home/ctroupin/data/ME4OH/data/\"\u001b[93m\u001b[1m ⋯ 55 bytes ⋯ \u001b[22m\u001b[39m\"f.profiles.g10.200202.update.nc\"\n",
       " \"/home/ctroupin/data/ME4OH/data/\"\u001b[93m\u001b[1m ⋯ 55 bytes ⋯ \u001b[22m\u001b[39m\"f.profiles.g10.200203.update.nc\"\n",
       " \"/home/ctroupin/data/ME4OH/data/\"\u001b[93m\u001b[1m ⋯ 55 bytes ⋯ \u001b[22m\u001b[39m\"f.profiles.g10.200204.update.nc\"\n",
       " \"/home/ctroupin/data/ME4OH/data/\"\u001b[93m\u001b[1m ⋯ 55 bytes ⋯ \u001b[22m\u001b[39m\"f.profiles.g10.200205.update.nc\"\n",
       " \"/home/ctroupin/data/ME4OH/data/\"\u001b[93m\u001b[1m ⋯ 55 bytes ⋯ \u001b[22m\u001b[39m\"f.profiles.g10.200206.update.nc\""
      ]
     },
     "execution_count": 139,
     "metadata": {},
     "output_type": "execute_result"
    }
   ],
   "source": [
    "datafilelist = Glob.glob(\"*.nc\", datadir)\n",
    "@info(\"Found $(length(datafilelist)) files\");\n",
    "datafilelist"
   ]
  },
  {
   "cell_type": "markdown",
   "id": "db139a95",
   "metadata": {},
   "source": [
    "## Experiment B\n",
    "We perform purely 2D interpolations by looping on the monthly periods and the depth levels.     \n",
    "The land-sea mask is created on the 3 specified depth levels."
   ]
  },
  {
   "cell_type": "code",
   "execution_count": 9,
   "id": "57b2efe5",
   "metadata": {},
   "outputs": [
    {
     "data": {
      "text/plain": [
       "3-element Vector{Float64}:\n",
       "  286.6\n",
       "  685.9\n",
       " 1985.3"
      ]
     },
     "execution_count": 9,
     "metadata": {},
     "output_type": "execute_result"
    }
   ],
   "source": [
    "depth_dohc = [depthlayer1[end], depthlayer2[end], depthlayer3[end]]"
   ]
  },
  {
   "cell_type": "code",
   "execution_count": 10,
   "id": "2557d300",
   "metadata": {},
   "outputs": [],
   "source": [
    "xi, yi, mask_dohc = DIVAnd.load_mask(bathyfile, true, longrid, latgrid, depth_dohc);        \n",
    "_, (pm, pn), (xi, yi) = DIVAnd_rectdom(longrid, latgrid);"
   ]
  },
  {
   "cell_type": "markdown",
   "id": "3286778b",
   "metadata": {},
   "source": [
    "### Prepare the time grid \n",
    "According to the time period specified in `config.jl`."
   ]
  },
  {
   "cell_type": "code",
   "execution_count": 22,
   "id": "b15789e6",
   "metadata": {},
   "outputs": [],
   "source": [
    "timegrid1 = get_timegrid(timeperiod1);"
   ]
  },
  {
   "cell_type": "markdown",
   "id": "85662837",
   "metadata": {},
   "source": [
    "## Perform analysis\n",
    "### Create the netCDF files that will store the results\n",
    "The output directory is specified in `config.jl`."
   ]
  },
  {
   "cell_type": "code",
   "execution_count": 114,
   "id": "32a824be",
   "metadata": {},
   "outputs": [],
   "source": [
    "outputfilelist = []\n",
    "for depthlayer in [depthlayer1, depthlayer2, depthlayer3]\n",
    "    fname = make_fname(timeperiod1, depthlayer, \"A\")\n",
    "    outputfile = joinpath(outputdir, fname)\n",
    "    isfile(outputfile) ? rm(outputfile) : @debug(\"OK\")\n",
    "    create_netcdf_results(outputfile, longrid, latgrid, timegrid1)\n",
    "    \n",
    "    # Add the residual variables in the netCDF\n",
    "    add_residuals(outputfile, datafilelist)\n",
    "    \n",
    "    # Add file to the list\n",
    "    push!(outputfilelist, outputfile)\n",
    "end"
   ]
  },
  {
   "cell_type": "markdown",
   "id": "250212e4",
   "metadata": {},
   "source": [
    "### Loop on the files and the depths"
   ]
  },
  {
   "cell_type": "code",
   "execution_count": 115,
   "id": "5bb4aff3",
   "metadata": {},
   "outputs": [],
   "source": [
    "for (ntime, datafile) in enumerate(datafilelist)\n",
    "    \n",
    "    # Read observations\n",
    "    lon, lat, dates, depth, T, S, dohc = read_profile(datafile)\n",
    "    \n",
    "    # Modify coordinates\n",
    "    lon[lon .< 20.] .+= 360\n",
    "    \n",
    "    # Loop on the 3 depth levels\n",
    "    for ii = 1:1\n",
    "        \n",
    "        # Select good values (no NaNs)\n",
    "        obsval = dohc[ii,:]\n",
    "        goodval = findall(.!isnan.(obsval));\n",
    "        ngood = length(goodval)\n",
    "        \n",
    "        # Perform interpolation\n",
    "        fi, s = DIVAndrun(mask_dohc[:,:,ii], (pm, pn), (xi, yi), (Float64.(lon[goodval]), \n",
    "        Float64.(lat[goodval])), Float64.(obsval[goodval] .- mean(obsval[goodval])), \n",
    "        (5., 5.), 10.; moddim=[1,0])\n",
    "        \n",
    "        # Compute residuals\n",
    "        dataresidual = DIVAnd_residual(s, fi)\n",
    "        \n",
    "        # Write field and residual in the netCDF\n",
    "        NCDataset(outputfilelist[ii], \"a\") do ds\n",
    "            ds[\"dohc\"][:,:,ntime] = fi\n",
    "            ds[\"obslon\"][1:ngood,ntime] = lon[goodval]\n",
    "            ds[\"obslat\"][1:ngood,ntime] = lat[goodval]\n",
    "            ds[\"obstime\"][1:ngood,ntime] = dates[goodval]\n",
    "            ds[\"dohc_residuals\"][1:ngood,ntime] = dataresidual\n",
    "        end\n",
    "        \n",
    "        # Make plot\n",
    "        if doplot\n",
    "            fig = plt.figure(figsize=(15, 8))\n",
    "            ax = plt.subplot(121)\n",
    "            ax.scatter(lon[goodval], lat[goodval], s=3, c=obsval[goodval])\n",
    "            ax.set_xlim(20., 380.)\n",
    "            ax = plt.subplot(122)\n",
    "            ax.pcolormesh(longrid, latgrid, fi' .+ mean(obsval[goodval]))\n",
    "            ax.set_xlim(20., 380.)\n",
    "            plt.show()\n",
    "        end\n",
    "    end\n",
    "end"
   ]
  },
  {
   "cell_type": "code",
   "execution_count": null,
   "id": "bdd3c84c",
   "metadata": {},
   "outputs": [],
   "source": []
  }
 ],
 "metadata": {
  "@webio": {
   "lastCommId": null,
   "lastKernelId": null
  },
  "kernelspec": {
   "display_name": "Julia 1.10.0",
   "language": "julia",
   "name": "julia-1.10"
  },
  "language_info": {
   "file_extension": ".jl",
   "mimetype": "application/julia",
   "name": "julia",
   "version": "1.10.0"
  }
 },
 "nbformat": 4,
 "nbformat_minor": 5
}
