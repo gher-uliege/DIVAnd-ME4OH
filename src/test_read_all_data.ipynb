{
 "cells": [
  {
   "cell_type": "markdown",
   "id": "676fbf65",
   "metadata": {},
   "source": [
    "Objective: create a series of monthly 2D maps of ocean heat content anomaly produced by each mapping method"
   ]
  },
  {
   "cell_type": "code",
   "execution_count": 21,
   "id": "d2119233",
   "metadata": {},
   "outputs": [
    {
     "name": "stderr",
     "output_type": "stream",
     "text": [
      "WARNING: replacing module ME4OH.\n",
      "\u001b[36m\u001b[1m[ \u001b[22m\u001b[39m\u001b[36m\u001b[1mInfo: \u001b[22m\u001b[39mDirectory exists\n",
      "\u001b[36m\u001b[1m[ \u001b[22m\u001b[39m\u001b[36m\u001b[1mInfo: \u001b[22m\u001b[39mFile already downloaded\n"
     ]
    }
   ],
   "source": [
    "using DIVAnd\n",
    "using Dates\n",
    "using NCDatasets\n",
    "using Test\n",
    "using PyPlot\n",
    "using Statistics\n",
    "using DelimitedFiles\n",
    "const plt = PyPlot\n",
    "include(\"./ME4OH.jl\")\n",
    "include(\"./config.jl\")"
   ]
  },
  {
   "cell_type": "code",
   "execution_count": 22,
   "id": "0ded7f90",
   "metadata": {},
   "outputs": [
    {
     "data": {
      "text/plain": [
       "160-element Vector{String}:\n",
       " \"/media/ctroupin/T7 Shield/00006\"\u001b[93m\u001b[1m ⋯ 83 bytes ⋯ \u001b[22m\u001b[39m\"te.extra.danom.197901_201412.nc\"\n",
       " \"/media/ctroupin/T7 Shield/00006\"\u001b[93m\u001b[1m ⋯ 83 bytes ⋯ \u001b[22m\u001b[39m\"te.extra.danom.197901_201412.nc\"\n",
       " \"/media/ctroupin/T7 Shield/00006\"\u001b[93m\u001b[1m ⋯ 83 bytes ⋯ \u001b[22m\u001b[39m\"te.extra.danom.197901_201412.nc\"\n",
       " \"/media/ctroupin/T7 Shield/00006\"\u001b[93m\u001b[1m ⋯ 83 bytes ⋯ \u001b[22m\u001b[39m\"te.extra.danom.197901_201412.nc\"\n",
       " \"/media/ctroupin/T7 Shield/00006\"\u001b[93m\u001b[1m ⋯ 83 bytes ⋯ \u001b[22m\u001b[39m\"te.extra.danom.197901_201412.nc\"\n",
       " \"/media/ctroupin/T7 Shield/00006\"\u001b[93m\u001b[1m ⋯ 83 bytes ⋯ \u001b[22m\u001b[39m\"te.extra.danom.197901_201412.nc\"\n",
       " \"/media/ctroupin/T7 Shield/00006\"\u001b[93m\u001b[1m ⋯ 83 bytes ⋯ \u001b[22m\u001b[39m\"te.extra.danom.197901_201412.nc\"\n",
       " \"/media/ctroupin/T7 Shield/00006\"\u001b[93m\u001b[1m ⋯ 83 bytes ⋯ \u001b[22m\u001b[39m\"te.extra.danom.197901_201412.nc\"\n",
       " \"/media/ctroupin/T7 Shield/00006\"\u001b[93m\u001b[1m ⋯ 83 bytes ⋯ \u001b[22m\u001b[39m\"te.extra.danom.197901_201412.nc\"\n",
       " \"/media/ctroupin/T7 Shield/00006\"\u001b[93m\u001b[1m ⋯ 83 bytes ⋯ \u001b[22m\u001b[39m\"te.extra.danom.197901_201412.nc\"\n",
       " \"/media/ctroupin/T7 Shield/00006\"\u001b[93m\u001b[1m ⋯ 83 bytes ⋯ \u001b[22m\u001b[39m\"te.extra.danom.197901_201412.nc\"\n",
       " \"/media/ctroupin/T7 Shield/00006\"\u001b[93m\u001b[1m ⋯ 83 bytes ⋯ \u001b[22m\u001b[39m\"te.extra.danom.197901_201412.nc\"\n",
       " \"/media/ctroupin/T7 Shield/00006\"\u001b[93m\u001b[1m ⋯ 83 bytes ⋯ \u001b[22m\u001b[39m\"te.extra.danom.197901_201412.nc\"\n",
       " ⋮\n",
       " \"/media/ctroupin/T7 Shield/00006\"\u001b[93m\u001b[1m ⋯ 83 bytes ⋯ \u001b[22m\u001b[39m\"te.extra.danom.197901_201412.nc\"\n",
       " \"/media/ctroupin/T7 Shield/00006\"\u001b[93m\u001b[1m ⋯ 83 bytes ⋯ \u001b[22m\u001b[39m\"te.extra.danom.197901_201412.nc\"\n",
       " \"/media/ctroupin/T7 Shield/00006\"\u001b[93m\u001b[1m ⋯ 83 bytes ⋯ \u001b[22m\u001b[39m\"te.extra.danom.197901_201412.nc\"\n",
       " \"/media/ctroupin/T7 Shield/00006\"\u001b[93m\u001b[1m ⋯ 83 bytes ⋯ \u001b[22m\u001b[39m\"te.extra.danom.197901_201412.nc\"\n",
       " \"/media/ctroupin/T7 Shield/00006\"\u001b[93m\u001b[1m ⋯ 83 bytes ⋯ \u001b[22m\u001b[39m\"te.extra.danom.197901_201412.nc\"\n",
       " \"/media/ctroupin/T7 Shield/00006\"\u001b[93m\u001b[1m ⋯ 83 bytes ⋯ \u001b[22m\u001b[39m\"te.extra.danom.197901_201412.nc\"\n",
       " \"/media/ctroupin/T7 Shield/00006\"\u001b[93m\u001b[1m ⋯ 83 bytes ⋯ \u001b[22m\u001b[39m\"te.extra.danom.197901_201412.nc\"\n",
       " \"/media/ctroupin/T7 Shield/00006\"\u001b[93m\u001b[1m ⋯ 83 bytes ⋯ \u001b[22m\u001b[39m\"te.extra.danom.197901_201412.nc\"\n",
       " \"/media/ctroupin/T7 Shield/00006\"\u001b[93m\u001b[1m ⋯ 83 bytes ⋯ \u001b[22m\u001b[39m\"te.extra.danom.197901_201412.nc\"\n",
       " \"/media/ctroupin/T7 Shield/00006\"\u001b[93m\u001b[1m ⋯ 83 bytes ⋯ \u001b[22m\u001b[39m\"te.extra.danom.197901_201412.nc\"\n",
       " \"/media/ctroupin/T7 Shield/00006\"\u001b[93m\u001b[1m ⋯ 83 bytes ⋯ \u001b[22m\u001b[39m\"te.extra.danom.197901_201412.nc\"\n",
       " \"/media/ctroupin/T7 Shield/00006\"\u001b[93m\u001b[1m ⋯ 83 bytes ⋯ \u001b[22m\u001b[39m\"te.extra.danom.197901_201412.nc\""
      ]
     },
     "execution_count": 22,
     "metadata": {},
     "output_type": "execute_result"
    }
   ],
   "source": [
    "ME4OH.get_filelist(datadirdisk)"
   ]
  },
  {
   "cell_type": "markdown",
   "id": "c44a79fb",
   "metadata": {},
   "source": [
    "## Set time period and read all the data"
   ]
  },
  {
   "cell_type": "code",
   "execution_count": 4,
   "id": "d35cbdc0",
   "metadata": {},
   "outputs": [
    {
     "name": "stderr",
     "output_type": "stream",
     "text": [
      "\u001b[36m\u001b[1m[ \u001b[22m\u001b[39m\u001b[36m\u001b[1mInfo: \u001b[22m\u001b[39mFound 2 data files in /home/ctroupin/data/ME4OH/data/en4.1.1/1979-2014/full/update/\n"
     ]
    }
   ],
   "source": [
    "timeperiodtest = timeperiod1\n",
    "datafilelist = ME4OH.get_filelist(datadir, timeperiodtest);\n",
    "@info(\"Found $(length(datafilelist)) data files in $(datadir)\")"
   ]
  },
  {
   "cell_type": "code",
   "execution_count": 5,
   "id": "bc806499",
   "metadata": {},
   "outputs": [
    {
     "name": "stdout",
     "output_type": "stream",
     "text": [
      "  1.437726 seconds (3.63 M allocations: 253.627 MiB, 17.72% gc time, 96.58% compilation time)\n"
     ]
    },
    {
     "name": "stderr",
     "output_type": "stream",
     "text": [
      "\u001b[36m\u001b[1m[ \u001b[22m\u001b[39m\u001b[36m\u001b[1mInfo: \u001b[22m\u001b[39mFound 18635 out of 26343 values\n",
      "\u001b[36m\u001b[1m[ \u001b[22m\u001b[39m\u001b[36m\u001b[1mInfo: \u001b[22m\u001b[39mFound 21679 out of 30789 values\n"
     ]
    }
   ],
   "source": [
    "@time obslon, obslat, obsdepth, obsdates, dohc = ME4OH.read_data_dohc(datafilelist);"
   ]
  },
  {
   "cell_type": "markdown",
   "id": "24721804",
   "metadata": {},
   "source": [
    "## Creation of the background field\n",
    "We have to define the time period for the climatology:\n",
    "- full period for the years\n",
    "- monthly periods."
   ]
  },
  {
   "cell_type": "code",
   "execution_count": 8,
   "id": "105e695e",
   "metadata": {},
   "outputs": [
    {
     "name": "stdout",
     "output_type": "stream",
     "text": [
      "TSbackground = TimeSelectorYearListMonthList{Vector{UnitRange{Int64}}, Vector{UnitRange{Int64}}}(UnitRange{Int64}[1979:2014], UnitRange{Int64}[1:1, 2:2, 3:3, 4:4, 5:5, 6:6, 7:7, 8:8, 9:9, 10:10, 11:11, 12:12])\n"
     ]
    }
   ],
   "source": [
    "yearlist = [timeperiod1[1]:timeperiod1[end]];\n",
    "monthlist = [ii:ii for ii in 1:12]\n",
    "TSbackground = DIVAnd.TimeSelectorYearListMonthList(yearlist,monthlist);\n",
    "@show TSbackground;"
   ]
  },
  {
   "cell_type": "markdown",
   "id": "360c7bf3",
   "metadata": {},
   "source": [
    "### Set the analysis parameters"
   ]
  },
  {
   "cell_type": "code",
   "execution_count": 17,
   "id": "87b03b09",
   "metadata": {},
   "outputs": [
    {
     "data": {
      "text/plain": [
       "(Float32[12.5 12.5 … 12.5 12.5; 12.5 12.5 … 12.5 12.5; … ; 12.5 12.5 … 12.5 12.5; 12.5 12.5 … 12.5 12.5;;; 11.9 11.9 … 11.9 11.9; 11.9 11.9 … 11.9 11.9; … ; 11.9 11.9 … 11.9 11.9; 11.9 11.9 … 11.9 11.9;;; 19.9 19.9 … 19.9 19.9; 19.9 19.9 … 19.9 19.9; … ; 19.9 19.9 … 19.9 19.9; 19.9 19.9 … 19.9 19.9], Float32[12.5 12.5 … 12.5 12.5; 12.5 12.5 … 12.5 12.5; … ; 12.5 12.5 … 12.5 12.5; 12.5 12.5 … 12.5 12.5;;; 11.9 11.9 … 11.9 11.9; 11.9 11.9 … 11.9 11.9; … ; 11.9 11.9 … 11.9 11.9; 11.9 11.9 … 11.9 11.9;;; 19.9 19.9 … 19.9 19.9; 19.9 19.9 … 19.9 19.9; … ; 19.9 19.9 … 19.9 19.9; 19.9 19.9 … 19.9 19.9], Float32[0.0 0.0 … 0.0 0.0; 0.0 0.0 … 0.0 0.0; … ; 0.0 0.0 … 0.0 0.0; 0.0 0.0 … 0.0 0.0;;; 0.0 0.0 … 0.0 0.0; 0.0 0.0 … 0.0 0.0; … ; 0.0 0.0 … 0.0 0.0; 0.0 0.0 … 0.0 0.0;;; 0.0 0.0 … 0.0 0.0; 0.0 0.0 … 0.0 0.0; … ; 0.0 0.0 … 0.0 0.0; 0.0 0.0 … 0.0 0.0])"
      ]
     },
     "execution_count": 17,
     "metadata": {},
     "output_type": "execute_result"
    }
   ],
   "source": [
    "sz = (length(longrid), length(latgrid), 3);\n",
    "lenx = zeros(Float32, sz)\n",
    "leny = zeros(Float32, sz)\n",
    "lenz = zeros(Float32, sz)\n",
    "lenx[:,:,1] .= 12.5\n",
    "lenx[:,:,2] .= 11.9\n",
    "lenx[:,:,3] .= 19.9\n",
    "leny[:,:,1] .= 12.5\n",
    "leny[:,:,2] .= 11.9\n",
    "leny[:,:,3] .= 19.9;\n",
    "len = (lenx, leny, lenz)"
   ]
  },
  {
   "cell_type": "code",
   "execution_count": 10,
   "id": "9cee35f9",
   "metadata": {},
   "outputs": [
    {
     "data": {
      "text/plain": [
       "\"dohc_test.nc\""
      ]
     },
     "execution_count": 10,
     "metadata": {},
     "output_type": "execute_result"
    }
   ],
   "source": [
    "epsilon2 = 5.\n",
    "solver = :direct\n",
    "\n",
    "filenamebackground = \"dohc_background_test.nc\"\n",
    "filename = \"dohc_test.nc\""
   ]
  },
  {
   "cell_type": "code",
   "execution_count": 11,
   "id": "e066791e",
   "metadata": {},
   "outputs": [
    {
     "data": {
      "text/plain": [
       "3-element Vector{Float64}:\n",
       "  286.6\n",
       "  685.9\n",
       " 1985.3"
      ]
     },
     "execution_count": 11,
     "metadata": {},
     "output_type": "execute_result"
    }
   ],
   "source": [
    "depthgrid = [depthlayer1[2], depthlayer2[2], depthlayer3[2]]"
   ]
  },
  {
   "cell_type": "markdown",
   "id": "04068cf9",
   "metadata": {},
   "source": [
    "## Create grid\n",
    "### Longitude / latitude\n",
    "Defined in the file `config.jl`\n",
    "### Depth levels\n",
    "Read from the first file"
   ]
  },
  {
   "cell_type": "code",
   "execution_count": 13,
   "id": "9cdef788",
   "metadata": {},
   "outputs": [],
   "source": [
    "_, _, _, depthgrid, _, _, _ = ME4OH.read_profile(datafilelist[1]);\n",
    "depthgrid;"
   ]
  },
  {
   "cell_type": "markdown",
   "id": "bc90a1a2",
   "metadata": {},
   "source": [
    "### Time periods"
   ]
  },
  {
   "cell_type": "code",
   "execution_count": 14,
   "id": "7a635f73",
   "metadata": {},
   "outputs": [
    {
     "data": {
      "text/plain": [
       "432"
      ]
     },
     "execution_count": 14,
     "metadata": {},
     "output_type": "execute_result"
    }
   ],
   "source": [
    "TS = TimeSelectorYearListMonthList([yy:yy for yy in timeperiodtest], [ii:ii for ii in 1:12]);\n",
    "length(TS)"
   ]
  },
  {
   "cell_type": "markdown",
   "id": "6a4a5853",
   "metadata": {},
   "source": [
    "## Run analysis\n",
    "### Set analysis parameters"
   ]
  },
  {
   "cell_type": "code",
   "execution_count": 19,
   "id": "f675cbe2",
   "metadata": {},
   "outputs": [
    {
     "data": {
      "text/plain": [
       "5.0"
      ]
     },
     "execution_count": 19,
     "metadata": {},
     "output_type": "execute_result"
    }
   ],
   "source": [
    "sz = (length(longrid), length(latgrid), 3);\n",
    "lenx = zeros(Float32, sz)\n",
    "leny = zeros(Float32, sz)\n",
    "lenz = zeros(Float32, sz)\n",
    "lenx[:,:,1] .= 12.5\n",
    "lenx[:,:,2] .= 11.9\n",
    "lenx[:,:,3] .= 19.9\n",
    "leny[:,:,1] .= 12.5\n",
    "leny[:,:,2] .= 11.9\n",
    "leny[:,:,3] .= 19.9;\n",
    "len = (lenx, leny, lenz)\n",
    "epsilon2 = 5."
   ]
  },
  {
   "cell_type": "code",
   "execution_count": 99,
   "id": "27879fa4",
   "metadata": {},
   "outputs": [],
   "source": [
    "obslonall, obslatall, obsdepthall = Float64.(obslonall), Float64.(obslatall), Float64.(obsdepthall)\n",
    "Tall = Float64.(Tall);"
   ]
  },
  {
   "cell_type": "code",
   "execution_count": 16,
   "id": "636a458e",
   "metadata": {},
   "outputs": [
    {
     "ename": "LoadError",
     "evalue": "UndefVarError: `obslonall` not defined",
     "output_type": "error",
     "traceback": [
      "UndefVarError: `obslonall` not defined",
      "",
      "Stacktrace:",
      " [1] macro expansion",
      "   @ ./timing.jl:279 [inlined]",
      " [2] top-level scope",
      "   @ ./In[16]:1"
     ]
    }
   ],
   "source": [
    "@time dbinfo = diva3d((longrid, latgrid, depthgrid, TS),\n",
    "              (obslonall, obslatall, obsdepthall, obsdatesall),\n",
    "              Tall,\n",
    "              (lenx,leny,lenz),\n",
    "              epsilon2,\n",
    "              joinpath(outputdir, \"diva3d2delete.nc\"), \"Temperature\",\n",
    "              bathname = gebco16file,\n",
    "              bathisglobal = true,\n",
    "              background = DIVAnd.backgroundfile(filenamebackground, \"dohc\", TSbackground),\n",
    "       );"
   ]
  }
 ],
 "metadata": {
  "@webio": {
   "lastCommId": null,
   "lastKernelId": null
  },
  "kernelspec": {
   "display_name": "Julia 1.10.4",
   "language": "julia",
   "name": "julia-1.10"
  },
  "language_info": {
   "file_extension": ".jl",
   "mimetype": "application/julia",
   "name": "julia",
   "version": "1.10.4"
  },
  "toc": {
   "base_numbering": 1,
   "nav_menu": {},
   "number_sections": true,
   "sideBar": true,
   "skip_h1_title": false,
   "title_cell": "Table of Contents",
   "title_sidebar": "Contents",
   "toc_cell": false,
   "toc_position": {},
   "toc_section_display": true,
   "toc_window_display": false
  }
 },
 "nbformat": 4,
 "nbformat_minor": 5
}
