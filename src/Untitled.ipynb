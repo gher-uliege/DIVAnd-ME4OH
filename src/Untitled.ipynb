{
 "cells": [
  {
   "cell_type": "code",
   "execution_count": 26,
   "id": "d2119233",
   "metadata": {},
   "outputs": [
    {
     "data": {
      "text/plain": [
       "\"../data/gebco_30sec_16.nc\""
      ]
     },
     "execution_count": 26,
     "metadata": {},
     "output_type": "execute_result"
    }
   ],
   "source": [
    "using NCDatasets\n",
    "using Dates\n",
    "using DataStructures\n",
    "include(\"../config.jl\")"
   ]
  },
  {
   "cell_type": "code",
   "execution_count": 31,
   "id": "6ded0dcc",
   "metadata": {},
   "outputs": [],
   "source": [
    "timegrid1 = get_timegrid(timeperiod1)\n"
   ]
  },
  {
   "cell_type": "code",
   "execution_count": 43,
   "id": "d35cbdc0",
   "metadata": {},
   "outputs": [
    {
     "data": {
      "text/plain": [
       "create_netcdf_results (generic function with 1 method)"
      ]
     },
     "execution_count": 43,
     "metadata": {},
     "output_type": "execute_result"
    }
   ],
   "source": []
  },
  {
   "cell_type": "code",
   "execution_count": 44,
   "id": "1f64d248",
   "metadata": {},
   "outputs": [],
   "source": [
    "testfile = \"./test2del.nc\"\n",
    "isfile(testfile) ? rm(testfile) : @debug(\"ok\")\n",
    "create_netcdf_results(\"test2del.nc\", longrid, latgrid, timegrid1)"
   ]
  },
  {
   "cell_type": "code",
   "execution_count": null,
   "id": "bc806499",
   "metadata": {},
   "outputs": [],
   "source": []
  }
 ],
 "metadata": {
  "@webio": {
   "lastCommId": null,
   "lastKernelId": null
  },
  "kernelspec": {
   "display_name": "Julia 1.10.0",
   "language": "julia",
   "name": "julia-1.10"
  },
  "language_info": {
   "file_extension": ".jl",
   "mimetype": "application/julia",
   "name": "julia",
   "version": "1.10.0"
  }
 },
 "nbformat": 4,
 "nbformat_minor": 5
}
